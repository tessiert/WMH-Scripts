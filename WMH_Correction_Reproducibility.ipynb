{
 "cells": [
  {
   "cell_type": "code",
   "execution_count": 1,
   "metadata": {},
   "outputs": [
    {
     "name": "stdout",
     "output_type": "stream",
     "text": [
      "/export/research/analysis/human/grosenberg/ugrant_20294/analysis_flair\n"
     ]
    }
   ],
   "source": [
    "cd /export/research/analysis/human/grosenberg/ugrant_20294/analysis_flair"
   ]
  },
  {
   "cell_type": "code",
   "execution_count": 2,
   "metadata": {
    "collapsed": true
   },
   "outputs": [],
   "source": [
    "%matplotlib inline\n",
    "import numpy as np\n",
    "import pandas as pd\n",
    "import matplotlib.pyplot as plt"
   ]
  },
  {
   "cell_type": "code",
   "execution_count": 3,
   "metadata": {
    "collapsed": true
   },
   "outputs": [],
   "source": [
    "# n(i) denotes number of mask dilation iterations (n0 => only 'image quality' correction has been applied)\n",
    "stats0 = pd.read_csv('wmh_stats_n0.txt', sep='\\t')\n",
    "stats1 = pd.read_csv('wmh_stats_n1.txt', sep='\\t')\n",
    "stats2 = pd.read_csv('wmh_stats_n2.txt', sep='\\t')\n",
    "stats3 = pd.read_csv('wmh_stats_n3.txt', sep ='\\t')\n",
    "stats4 = pd.read_csv('wmh_stats_n4.txt', sep = '\\t')\n"
   ]
  },
  {
   "cell_type": "code",
   "execution_count": 4,
   "metadata": {},
   "outputs": [
    {
     "data": {
      "text/html": [
       "<div>\n",
       "<table border=\"1\" class=\"dataframe\">\n",
       "  <thead>\n",
       "    <tr style=\"text-align: right;\">\n",
       "      <th></th>\n",
       "      <th>Subject_Date_ID</th>\n",
       "      <th>WMH_1</th>\n",
       "      <th>WMH_2</th>\n",
       "      <th>Common</th>\n",
       "      <th>Only_1</th>\n",
       "      <th>Only_2</th>\n",
       "      <th>Dice</th>\n",
       "    </tr>\n",
       "  </thead>\n",
       "  <tbody>\n",
       "    <tr>\n",
       "      <th>0</th>\n",
       "      <td>M87104356_20180327</td>\n",
       "      <td>6489</td>\n",
       "      <td>6422</td>\n",
       "      <td>5711</td>\n",
       "      <td>778</td>\n",
       "      <td>711</td>\n",
       "      <td>0.884672</td>\n",
       "    </tr>\n",
       "    <tr>\n",
       "      <th>1</th>\n",
       "      <td>M87104356_20180327</td>\n",
       "      <td>6489</td>\n",
       "      <td>6561</td>\n",
       "      <td>5850</td>\n",
       "      <td>639</td>\n",
       "      <td>711</td>\n",
       "      <td>0.896552</td>\n",
       "    </tr>\n",
       "    <tr>\n",
       "      <th>2</th>\n",
       "      <td>M87120729_20180406</td>\n",
       "      <td>10647</td>\n",
       "      <td>7987</td>\n",
       "      <td>7252</td>\n",
       "      <td>3395</td>\n",
       "      <td>735</td>\n",
       "      <td>0.778362</td>\n",
       "    </tr>\n",
       "    <tr>\n",
       "      <th>3</th>\n",
       "      <td>M87120729_20180406</td>\n",
       "      <td>10647</td>\n",
       "      <td>9483</td>\n",
       "      <td>8748</td>\n",
       "      <td>1899</td>\n",
       "      <td>735</td>\n",
       "      <td>0.869151</td>\n",
       "    </tr>\n",
       "    <tr>\n",
       "      <th>4</th>\n",
       "      <td>M87128932_20180306</td>\n",
       "      <td>5840</td>\n",
       "      <td>6176</td>\n",
       "      <td>4699</td>\n",
       "      <td>1141</td>\n",
       "      <td>1477</td>\n",
       "      <td>0.782124</td>\n",
       "    </tr>\n",
       "  </tbody>\n",
       "</table>\n",
       "</div>"
      ],
      "text/plain": [
       "      Subject_Date_ID  WMH_1  WMH_2  Common  Only_1  Only_2      Dice\n",
       "0  M87104356_20180327   6489   6422    5711     778     711  0.884672\n",
       "1  M87104356_20180327   6489   6561    5850     639     711  0.896552\n",
       "2  M87120729_20180406  10647   7987    7252    3395     735  0.778362\n",
       "3  M87120729_20180406  10647   9483    8748    1899     735  0.869151\n",
       "4  M87128932_20180306   5840   6176    4699    1141    1477  0.782124"
      ]
     },
     "execution_count": 4,
     "metadata": {},
     "output_type": "execute_result"
    }
   ],
   "source": [
    "stats0.head()"
   ]
  },
  {
   "cell_type": "code",
   "execution_count": 5,
   "metadata": {},
   "outputs": [
    {
     "data": {
      "text/html": [
       "<div>\n",
       "<table border=\"1\" class=\"dataframe\">\n",
       "  <thead>\n",
       "    <tr style=\"text-align: right;\">\n",
       "      <th></th>\n",
       "      <th>Dice</th>\n",
       "    </tr>\n",
       "  </thead>\n",
       "  <tbody>\n",
       "    <tr>\n",
       "      <th>0</th>\n",
       "      <td>0.884672</td>\n",
       "    </tr>\n",
       "    <tr>\n",
       "      <th>1</th>\n",
       "      <td>0.896552</td>\n",
       "    </tr>\n",
       "    <tr>\n",
       "      <th>2</th>\n",
       "      <td>0.778362</td>\n",
       "    </tr>\n",
       "    <tr>\n",
       "      <th>3</th>\n",
       "      <td>0.869151</td>\n",
       "    </tr>\n",
       "    <tr>\n",
       "      <th>4</th>\n",
       "      <td>0.782124</td>\n",
       "    </tr>\n",
       "  </tbody>\n",
       "</table>\n",
       "</div>"
      ],
      "text/plain": [
       "       Dice\n",
       "0  0.884672\n",
       "1  0.896552\n",
       "2  0.778362\n",
       "3  0.869151\n",
       "4  0.782124"
      ]
     },
     "execution_count": 5,
     "metadata": {},
     "output_type": "execute_result"
    }
   ],
   "source": [
    "dice0 = stats0[['Dice']].astype(float)   # Passing single column as list creates df instead of series\n",
    "dice1 = stats1[['Dice']].astype(float)\n",
    "dice2 = stats2[['Dice']].astype(float)    \n",
    "dice3 = stats3[['Dice']].astype(float)\n",
    "dice4 = stats4[['Dice']].astype(float)\n",
    "\n",
    "dice0.head()"
   ]
  },
  {
   "cell_type": "code",
   "execution_count": 6,
   "metadata": {},
   "outputs": [
    {
     "data": {
      "text/html": [
       "<div>\n",
       "<table border=\"1\" class=\"dataframe\">\n",
       "  <thead>\n",
       "    <tr style=\"text-align: right;\">\n",
       "      <th></th>\n",
       "      <th>d0</th>\n",
       "      <th>d1</th>\n",
       "      <th>d2</th>\n",
       "      <th>d3</th>\n",
       "      <th>d4</th>\n",
       "    </tr>\n",
       "  </thead>\n",
       "  <tbody>\n",
       "    <tr>\n",
       "      <th>0</th>\n",
       "      <td>0.896552</td>\n",
       "      <td>0.942731</td>\n",
       "      <td>0.946830</td>\n",
       "      <td>0.947753</td>\n",
       "      <td>0.948137</td>\n",
       "    </tr>\n",
       "    <tr>\n",
       "      <th>1</th>\n",
       "      <td>0.869151</td>\n",
       "      <td>0.901510</td>\n",
       "      <td>0.903627</td>\n",
       "      <td>0.904154</td>\n",
       "      <td>0.904734</td>\n",
       "    </tr>\n",
       "    <tr>\n",
       "      <th>2</th>\n",
       "      <td>0.798621</td>\n",
       "      <td>0.869874</td>\n",
       "      <td>0.881791</td>\n",
       "      <td>0.886810</td>\n",
       "      <td>0.889007</td>\n",
       "    </tr>\n",
       "    <tr>\n",
       "      <th>3</th>\n",
       "      <td>0.901920</td>\n",
       "      <td>0.930840</td>\n",
       "      <td>0.934297</td>\n",
       "      <td>0.935752</td>\n",
       "      <td>0.936627</td>\n",
       "    </tr>\n",
       "    <tr>\n",
       "      <th>4</th>\n",
       "      <td>0.814067</td>\n",
       "      <td>0.859831</td>\n",
       "      <td>0.867241</td>\n",
       "      <td>0.870458</td>\n",
       "      <td>0.871608</td>\n",
       "    </tr>\n",
       "  </tbody>\n",
       "</table>\n",
       "</div>"
      ],
      "text/plain": [
       "         d0        d1        d2        d3        d4\n",
       "0  0.896552  0.942731  0.946830  0.947753  0.948137\n",
       "1  0.869151  0.901510  0.903627  0.904154  0.904734\n",
       "2  0.798621  0.869874  0.881791  0.886810  0.889007\n",
       "3  0.901920  0.930840  0.934297  0.935752  0.936627\n",
       "4  0.814067  0.859831  0.867241  0.870458  0.871608"
      ]
     },
     "execution_count": 6,
     "metadata": {},
     "output_type": "execute_result"
    }
   ],
   "source": [
    "# In each case first row of pair contains raw dice coeff of segmentation output with no corrections applied\n",
    "# Keep only corrected values for below analysis\n",
    "dice0 = dice0[1::2].values\n",
    "dice1 = dice1[1::2].values\n",
    "dice2 = dice2[1::2].values\n",
    "dice3 = dice3[1::2].values\n",
    "dice4 = dice4[1::2].values\n",
    "\n",
    "all_dice = np.concatenate([dice0, dice1, dice2, dice3, dice4], axis=1)\n",
    "dice_df = pd.DataFrame(all_dice, columns=['d0','d1','d2','d3','d4'])\n",
    "\n",
    "dice_df.head()"
   ]
  },
  {
   "cell_type": "code",
   "execution_count": 7,
   "metadata": {
    "scrolled": true
   },
   "outputs": [
    {
     "data": {
      "text/plain": [
       "<matplotlib.text.Text at 0x7f5d8a4a2f98>"
      ]
     },
     "execution_count": 7,
     "metadata": {},
     "output_type": "execute_result"
    },
    {
     "data": {
      "image/png": "[encoded data removed]",
      "text/plain": [
       "<matplotlib.figure.Figure at 0x7f5d8a4d8f98>"
      ]
     },
     "metadata": {},
     "output_type": "display_data"
    }
   ],
   "source": [
    "for idx in range(dice_df.shape[0]):\n",
    "    \n",
    "    plt.plot(dice_df.loc[idx].values)\n",
    "    \n",
    "plt.title('Dice Coeff. vs. Size of dilation mask')\n",
    "plt.xticks(range(5))\n",
    "plt.xlabel('Dilation Size (voxels)')\n",
    "plt.ylabel('Dice Coefficient')"
   ]
  },
  {
   "cell_type": "markdown",
   "metadata": {
    "collapsed": true
   },
   "source": [
    "## Kinks in above graphs give optimal voxel dilation size = 1"
   ]
  },
  {
   "cell_type": "code",
   "execution_count": null,
   "metadata": {},
   "outputs": [],
   "source": []
  },
  {
   "cell_type": "code",
   "execution_count": null,
   "metadata": {
    "collapsed": true
   },
   "outputs": [],
   "source": []
  }
 ],
 "metadata": {
  "kernelspec": {
   "display_name": "Python 3",
   "language": "python",
   "name": "python3"
  },
  "language_info": {
   "codemirror_mode": {
    "name": "ipython",
    "version": 3
   },
   "file_extension": ".py",
   "mimetype": "text/x-python",
   "name": "python",
   "nbconvert_exporter": "python",
   "pygments_lexer": "ipython3",
   "version": "3.5.2"
  }
 },
 "nbformat": 4,
 "nbformat_minor": 2
}
